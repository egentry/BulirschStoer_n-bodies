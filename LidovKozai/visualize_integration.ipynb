{
 "metadata": {
  "name": "",
  "signature": "sha256:87a894afa24fd75080397f802b2e1cd38330aeae846f46a5dfbfea2eb4446bb6"
 },
 "nbformat": 3,
 "nbformat_minor": 0,
 "worksheets": [
  {
   "cells": [
    {
     "cell_type": "code",
     "collapsed": false,
     "input": [
      "%matplotlib inline\n",
      "import numpy as np\n",
      "import matplotlib as mpl\n",
      "from mpl_toolkits.mplot3d import Axes3D\n",
      "import matplotlib.pyplot as plt\n",
      "from matplotlib import rc\n",
      "rc('text', usetex=True)\n",
      "plt.rc('font', family='serif')\n",
      "\n",
      "from __future__ import print_function\n",
      "\n",
      "\n",
      "from IPython.html.widgets import interact"
     ],
     "language": "python",
     "metadata": {},
     "outputs": [],
     "prompt_number": 16
    },
    {
     "cell_type": "code",
     "collapsed": false,
     "input": [
      "%%bash \n",
      "make\n",
      "./LidovKozai"
     ],
     "language": "python",
     "metadata": {},
     "outputs": [
      {
       "output_type": "stream",
       "stream": "stdout",
       "text": [
        "Process is terminated.\n"
       ]
      }
     ],
     "prompt_number": 20
    },
    {
     "cell_type": "code",
     "collapsed": false,
     "input": [
      "body_1_filename = 'body_001.dat'\n",
      "body_2_filename = 'body_002.dat'\n",
      "body_3_filename = 'body_003.dat'\n",
      "\n",
      "t_1, x_1, y_1, z_1, v_x_1, v_y_1, v_z_1 = np.loadtxt(body_1_filename, unpack=True, skiprows=1)\n",
      "t_2, x_2, y_2, z_2, v_x_2, v_y_2, v_z_2 = np.loadtxt(body_2_filename, unpack=True, skiprows=1)\n",
      "t_3, x_3, y_3, z_3, v_x_3, v_y_3, v_z_3 = np.loadtxt(body_3_filename, unpack=True, skiprows=1)"
     ],
     "language": "python",
     "metadata": {},
     "outputs": [],
     "prompt_number": 32
    },
    {
     "cell_type": "code",
     "collapsed": false,
     "input": [
      "plot_step_size =int(t_1[-1] - t_1[0]) / 20\n",
      "def plot_solution( xy_angle=0, z_angle=45, third_body=True, COM_frame=True, plot_start=0):\n",
      "    fig = plt.figure()\n",
      "    ax = fig.gca(projection='3d', aspect=\"equal\")\n",
      "\n",
      "    print(\"plot range: t= \",plot_start,  \" - \", plot_start + plot_step_size)\n",
      "\n",
      "    indices = np.where( ((t_1 > plot_start) & (t_1 < plot_start + plot_step_size)))\n",
      "    \n",
      "    if COM_frame is True:\n",
      "        x_rel = 0\n",
      "        y_rel = 0\n",
      "        z_rel = 0\n",
      "    else:\n",
      "        x_rel = x_1[indices]\n",
      "        y_rel = y_1[indices]\n",
      "        z_rel = z_1[indices]\n",
      "    \n",
      "    ax.plot(x_1[indices] - x_rel, y_1[indices] - y_rel, z_1[indices] - z_rel, linestyle='-')\n",
      "    ax.plot(x_2[indices] - x_rel, y_2[indices] - y_rel, z_2[indices] - z_rel, linestyle='dotted')\n",
      "    if third_body is True:\n",
      "        ax.plot(x_3[indices] - x_rel, y_3[indices] - y_rel, z_3[indices] - z_rel, linestyle='--')\n",
      "        plt.xlim(-30,30)\n",
      "        plt.ylim(-30,30)\n",
      "        plt.legend((r\"Body 1\", r\"Body 2\", r\"Body 3\"))\n",
      "    else:\n",
      "        plt.xlim(-2, 2)\n",
      "        plt.ylim(-2, 2)\n",
      "        plt.legend((r\"Body 1\", r\"Body 2\"))\n",
      "\n",
      "    plt.xlabel(r\"x\")\n",
      "    plt.ylabel(r\"y\")\n",
      "    ax.view_init(z_angle, xy_angle)\n",
      "\n",
      "    \n",
      "    return\n",
      "\n",
      "interact(plot_solution, \n",
      "         plot_start=(0,plot_step_size*np.floor(t_1[-1] / plot_step_size),plot_step_size), \n",
      "         xy_angle=(0.,360.), \n",
      "         z_angle=(0,90), \n",
      "         third_body=True, \n",
      "         COM_frame=True);"
     ],
     "language": "python",
     "metadata": {},
     "outputs": [
      {
       "output_type": "stream",
       "stream": "stdout",
       "text": [
        "plot range: t=  94999.05  -  99999.0\n"
       ]
      },
      {
       "metadata": {},
       "output_type": "display_data",
       "png": "[encoded data removed]",
       "text": [
        "<matplotlib.figure.Figure at 0x106b724e0>"
       ]
      }
     ],
     "prompt_number": 33
    },
    {
     "cell_type": "code",
     "collapsed": false,
     "input": [],
     "language": "python",
     "metadata": {},
     "outputs": []
    }
   ],
   "metadata": {}
  }
 ]
}