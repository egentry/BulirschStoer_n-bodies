{
 "metadata": {
  "name": "",
  "signature": "sha256:7a6bcafe77941cfeb70e2be8fd0628c11039e34e0b948aad2492abe2e9b1972f"
 },
 "nbformat": 3,
 "nbformat_minor": 0,
 "worksheets": [
  {
   "cells": [
    {
     "cell_type": "code",
     "collapsed": false,
     "input": [
      "%matplotlib inline\n",
      "import numpy as np\n",
      "import matplotlib.pyplot as plt\n",
      "from matplotlib import rc\n",
      "from matplotlib.colors import LogNorm\n",
      "rc('text', usetex=True)\n",
      "plt.rc('font', family='serif')\n",
      "\n",
      "from __future__ import print_function\n",
      "\n",
      "\n",
      "from IPython.html.widgets import interact"
     ],
     "language": "python",
     "metadata": {},
     "outputs": [],
     "prompt_number": 1
    },
    {
     "cell_type": "code",
     "collapsed": false,
     "input": [
      "%%bash \n",
      "make\n",
      "./Lindblad_resonances"
     ],
     "language": "python",
     "metadata": {},
     "outputs": [
      {
       "output_type": "stream",
       "stream": "stdout",
       "text": [
        "gfortran -O2 -c physics_Lindblad_resonances.f08\n",
        "gfortran -O2 -c ../bulirsch_stoer.f08 \n",
        "gfortran -O2 -o Lindblad_resonances  physics_Lindblad_resonances.f08 ../bulirsch_stoer.f08 Lindblad_resonances.f08\n",
        " energy (initial): \n",
        "  0.55090632047438903     \n",
        " starting body: \n",
        "           1\n",
        " starting body: \n",
        "           2\n",
        " \n",
        " energy (final): \n",
        "  0.52494807342469185     \n",
        " overall conservation:\n",
        " energy err:\n",
        "   4.7119167243070227E-002\n"
       ]
      }
     ],
     "prompt_number": 6
    },
    {
     "cell_type": "code",
     "collapsed": false,
     "input": [
      "n_bodies = 2\n",
      "\n",
      "i=1\n",
      "t_i, x_i, y_i, z_i, v_x_i, v_y_i, v_z_i = np.loadtxt('body_' + str(i).zfill(4) + '.dat', unpack=True, skiprows=1)\n",
      "n_points = t_i.size\n",
      "\n",
      "t = np.empty( (n_bodies, n_points))\n",
      "t[i-1,:]   = t_i\n",
      "x = np.empty( (n_bodies, n_points))\n",
      "x[i-1,:]   = x_i\n",
      "y = np.empty( (n_bodies, n_points))\n",
      "y[i-1,:]   = y_i\n",
      "z = np.empty( (n_bodies, n_points))\n",
      "z[i-1,:]   = z_i\n",
      "v_x = np.empty( (n_bodies, n_points))\n",
      "v_x[i-1,:] = v_x_i\n",
      "v_y = np.empty( (n_bodies, n_points))\n",
      "v_y[i-1,:] = v_y_i\n",
      "v_z = np.empty( (n_bodies, n_points))\n",
      "v_z[i-1,:] = v_z_i \n",
      "\n",
      "\n",
      "for i in range(2, n_bodies+1):\n",
      "    t_i, x_i, y_i, z_i, v_x_i, v_y_i, v_z_i = np.loadtxt('body_' + str(i).zfill(4) + '.dat', unpack=True, skiprows=1)\n",
      "\n",
      "    t[i-1,:]   = t_i\n",
      "    x[i-1,:]   = x_i\n",
      "    y[i-1,:]   = y_i\n",
      "    z[i-1,:]   = z_i\n",
      "    v_x[i-1,:] = v_x_i\n",
      "    v_y[i-1,:] = v_y_i\n",
      "    v_z[i-1,:] = v_z_i \n"
     ],
     "language": "python",
     "metadata": {},
     "outputs": [],
     "prompt_number": 7
    },
    {
     "cell_type": "code",
     "collapsed": false,
     "input": [
      "plot_step_size = int(t[0,-1] - t[0, 0]) / 20\n",
      "def plot_solution(plot_start=0):\n",
      "    print(\"plot range: t= \",plot_start,  \" - \", plot_start + plot_step_size)\n",
      "    plt.figure()\n",
      "\n",
      "    \n",
      "    indices = np.where( ((t[0,:] > plot_start) & (t[0,:] < plot_start + plot_step_size)))\n",
      "    plt.subplot(121, aspect=\"equal\")\n",
      "    plt.plot(x[0][indices], y[0][indices])\n",
      "    plt.title(\"Corotational Resonance\")\n",
      "    plt.xlabel(r\"$x$ (along bar)\")\n",
      "    plt.ylabel(r\"$y$ (perpendicular to bar\")\n",
      "    plt.xlim(-2,2)\n",
      "    plt.ylim(-2,2)\n",
      "\n",
      "    \n",
      "    plt.subplot(122, aspect=\"equal\")\n",
      "    plt.plot(x[1][indices], y[1][indices])\n",
      "    plt.title(\"Outer Lindblad Resonance\")\n",
      "    plt.xlabel(r\"$x$ (along bar)\")\n",
      "    plt.ylabel(r\"$y$ (perpendicular to bar\")\n",
      "    plt.xlim(-2,2)\n",
      "    plt.ylim(-2,2)\n",
      "    \n",
      "    return\n",
      "\n",
      "interact(plot_solution, plot_start=(0,plot_step_size*np.floor(t[0,-1] / plot_step_size),plot_step_size));"
     ],
     "language": "python",
     "metadata": {},
     "outputs": [
      {
       "output_type": "stream",
       "stream": "stdout",
       "text": [
        "plot range: t=  0.0  -  49.95\n"
       ]
      },
      {
       "metadata": {},
       "output_type": "display_data",
       "png": "[encoded data removed]",
       "text": [
        "<matplotlib.figure.Figure at 0x128dbbd68>"
       ]
      }
     ],
     "prompt_number": 8
    }
   ],
   "metadata": {}
  }
 ]
}